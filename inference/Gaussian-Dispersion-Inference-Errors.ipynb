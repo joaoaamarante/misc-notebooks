{
 "cells": [
  {
   "cell_type": "code",
   "execution_count": 1,
   "metadata": {
    "collapsed": false
   },
   "outputs": [
    {
     "name": "stdout",
     "output_type": "stream",
     "text": [
      "Populating the interactive namespace from numpy and matplotlib\n"
     ]
    }
   ],
   "source": [
    "import numpy\n",
    "import bovy_mcmc\n",
    "%pylab inline"
   ]
  },
  {
   "cell_type": "markdown",
   "metadata": {},
   "source": [
    "# Inference of the dispersion of a Gaussian with Gaussian data errors"
   ]
  },
  {
   "cell_type": "markdown",
   "metadata": {},
   "source": [
    "Suppose we have data draw from a delta function with Gaussian uncertainties (all equal). How well do we limit the dispersion? Sample data:"
   ]
  },
  {
   "cell_type": "code",
   "execution_count": 2,
   "metadata": {
    "collapsed": true
   },
   "outputs": [],
   "source": [
    "ndata= 24\n",
    "data= numpy.random.normal(size=ndata)"
   ]
  },
  {
   "cell_type": "markdown",
   "metadata": {},
   "source": [
    "We assume that the mean is zero and implement the likelihood"
   ]
  },
  {
   "cell_type": "code",
   "execution_count": 3,
   "metadata": {
    "collapsed": true
   },
   "outputs": [],
   "source": [
    "def loglike(sigma,data):\n",
    "    if sigma <= 0. or sigma > 2.: return -1000000000000000.\n",
    "    return -numpy.sum(0.5*numpy.log(1.+sigma**2.)+0.5*data**2./(1.+sigma**2.))"
   ]
  },
  {
   "cell_type": "markdown",
   "metadata": {},
   "source": [
    "Now sample with slice sampling"
   ]
  },
  {
   "cell_type": "code",
   "execution_count": 4,
   "metadata": {
    "collapsed": false
   },
   "outputs": [],
   "source": [
    "nsamples= 10000\n",
    "samples= bovy_mcmc.slice(numpy.array([1.]),1.,loglike,(data,),\n",
    "                        isDomainFinite=[True,True],domain=[0.,2.],\n",
    "                        nsamples=nsamples)"
   ]
  },
  {
   "cell_type": "code",
   "execution_count": 5,
   "metadata": {
    "collapsed": false
   },
   "outputs": [
    {
     "data": {
      "text/plain": [
       "<matplotlib.text.Text at 0x1007323d0>"
      ]
     },
     "execution_count": 5,
     "metadata": {},
     "output_type": "execute_result"
    },
    {
     "data": {
      "image/png": "[encoded data removed]",
      "text/plain": [
       "<matplotlib.figure.Figure at 0x1043b8050>"
      ]
     },
     "metadata": {},
     "output_type": "display_data"
    }
   ],
   "source": [
    "hist(numpy.array(samples),\n",
    "     range=[0.,2.],bins=0.3*numpy.sqrt(nsamples),\n",
    "     histtype='step',color='k',normed=True)\n",
    "x95= sorted(samples)[int(numpy.floor(0.95*nsamples))]\n",
    "plot([x95,x95],ylim(),'r-')\n",
    "text(0.4,0.8,r'$\\sigma < %.2f\\ (95\\%%\\ \\mathrm{confidence})$' % x95,\n",
    "     transform=gca().transAxes,size=18.,color='r',\n",
    "     backgroundcolor='w')\n",
    "xlabel(r'$\\sigma$')"
   ]
  },
  {
   "cell_type": "markdown",
   "metadata": {},
   "source": [
    "## Dependence on $N$"
   ]
  },
  {
   "cell_type": "markdown",
   "metadata": {},
   "source": [
    "We write a function that returns the 95% upper limit as a function of sample size $N$"
   ]
  },
  {
   "cell_type": "code",
   "execution_count": 6,
   "metadata": {
    "collapsed": true
   },
   "outputs": [],
   "source": [
    "def uplimit(N,ntrials=30,nsamples=1000):\n",
    "    out= []\n",
    "    for ii in range(ntrials):\n",
    "        data= numpy.random.normal(size=N)\n",
    "        samples= bovy_mcmc.slice(numpy.array([1.]),1./N**0.25,loglike,(data,),\n",
    "                            isDomainFinite=[True,True],domain=[0.,2.],\n",
    "                            nsamples=nsamples)\n",
    "        out.append(sorted(samples)[int(numpy.floor(0.95*nsamples))])\n",
    "    return numpy.median(out)"
   ]
  },
  {
   "cell_type": "code",
   "execution_count": 7,
   "metadata": {
    "collapsed": true
   },
   "outputs": [],
   "source": [
    "N= 10.**numpy.linspace(1,5,21)\n",
    "y= [uplimit(n) for n in N]"
   ]
  },
  {
   "cell_type": "code",
   "execution_count": 8,
   "metadata": {
    "collapsed": false
   },
   "outputs": [
    {
     "data": {
      "text/plain": [
       "<matplotlib.text.Text at 0x10e74aa10>"
      ]
     },
     "execution_count": 8,
     "metadata": {},
     "output_type": "execute_result"
    },
    {
     "data": {
      "image/png": "[encoded data removed]",
      "text/plain": [
       "<matplotlib.figure.Figure at 0x10e3e7450>"
      ]
     },
     "metadata": {},
     "output_type": "display_data"
    }
   ],
   "source": [
    "loglog(N,y,'ko-')\n",
    "p= numpy.polyfit(numpy.log(N)[5:],numpy.log(y)[5:],deg=1)\n",
    "loglog(N,numpy.exp(p[0]*numpy.log(N)+p[1]),'b-')\n",
    "text(0.25,0.8,r'$\\log\\ \\mathrm{error} = %.2f \\,\\log N + %.2f$' % (p[0],p[1]),\n",
    "     transform=gca().transAxes,size=18.)\n",
    "xlabel(r'$N$')\n",
    "ylabel(r'$\\mathrm{95\\%\\ upper\\ limit\\ on}\\ \\sigma$')"
   ]
  },
  {
   "cell_type": "markdown",
   "metadata": {},
   "source": [
    "So the limit appears to go as $\\propto N^{-1/4}$. We can understand this as follows: the likelihood for $\\sigma$ is\n",
    "\n",
    "$\\mathcal{L}(\\sigma) \\propto (1+\\sigma^2)^{-N/2} \\exp\\left(-\\frac{1}{2}\\,\\frac{\\sum_i d_i^2}{1+\\sigma^2}\\right)\\,$\n",
    "\n",
    "for $N$ data points $d_i$. This is a $\\chi^2$ distribution for $\\frac{\\sum_i d_i^2}{1+\\sigma^2}$ with $N+2$ degrees of freedom. For large $N$, this approaches a Gaussian, i.e., \n",
    "\n",
    "$\\left(\\frac{\\sum_i d_i^2}{1+\\sigma^2}-N-2\\right)\\Big/\\sqrt{2(N+2)} \\sim \\mathcal{N}(0,1)$\n",
    "\n",
    "An lower limit on this is a constant $-C$, so\n",
    "\n",
    "$\\left(\\frac{\\sum_i d_i^2}{1+\\sigma^2}-N-2\\right)\\Big/\\sqrt{2(N+2)} = -C$\n",
    "\n",
    "For large $N$, $\\sum_i d_i^2$ will be approximately $N$ and we can write\n",
    "\n",
    "$\\frac{N}{1+\\sigma^2}-N-2 \\propto -N^{1/2}$\n",
    "\n",
    "$\\sigma^2$ will be small and we can write\n",
    "\n",
    "$N(1-\\sigma^2)-N-2 \\propto -N^{1/2}$\n",
    "\n",
    "so\n",
    "\n",
    "$\\sigma \\propto N^{-1/4}$. \n",
    "\n",
    "If the data have uncertainties $\\delta$, then it is easy to show that this becomes\n",
    "\n",
    "$\\sigma \\propto \\delta \\, N^{-1/4}$. \n",
    "\n",
    "If we are in a situation where the individual uncertainties are limit by photon noise, then $\\delta$ depends on the time $T$ spent observing as $\\delta \\propto T^{-1/2}$ and the number of objects goes as $N \\propto T$; therefore, the limit on $\\sigma$ depends on $T$ as\n",
    "\n",
    "$\\sigma \\propto \\delta \\, N^{-1/4} \\propto T^{-1/2}\\, T^{-1/4}$. \n",
    "\n",
    "Therefore, it is a better investment of observing time $T$ to obtain better observations for individual objects than to observe more objects."
   ]
  },
  {
   "cell_type": "code",
   "execution_count": null,
   "metadata": {
    "collapsed": true
   },
   "outputs": [],
   "source": []
  }
 ],
 "metadata": {
  "kernelspec": {
   "display_name": "Python 2",
   "language": "python",
   "name": "python2"
  },
  "language_info": {
   "codemirror_mode": {
    "name": "ipython",
    "version": 2
   },
   "file_extension": ".py",
   "mimetype": "text/x-python",
   "name": "python",
   "nbconvert_exporter": "python",
   "pygments_lexer": "ipython2",
   "version": "2.7.10"
  }
 },
 "nbformat": 4,
 "nbformat_minor": 0
}
