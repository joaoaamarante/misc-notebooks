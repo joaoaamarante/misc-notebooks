{
 "cells": [
  {
   "cell_type": "code",
   "execution_count": 1,
   "metadata": {
    "collapsed": false
   },
   "outputs": [
    {
     "name": "stdout",
     "output_type": "stream",
     "text": [
      "Populating the interactive namespace from numpy and matplotlib\n"
     ]
    }
   ],
   "source": [
    "import numpy\n",
    "from galpy.util import bovy_plot\n",
    "%pylab inline"
   ]
  },
  {
   "cell_type": "markdown",
   "metadata": {},
   "source": [
    "# ABC inference of upper limit on star-formation timescale from lack of CCSN"
   ]
  },
  {
   "cell_type": "markdown",
   "metadata": {},
   "source": [
    "The ABC sampling assuming K stars that go CCSN in tccsn years:"
   ]
  },
  {
   "cell_type": "code",
   "execution_count": 2,
   "metadata": {
    "collapsed": true
   },
   "outputs": [],
   "source": [
    "def sftime_ABC(n=100,K=1,tccsn=4.,tmax=20.):\n",
    "    out= []\n",
    "    for ii in range(n):\n",
    "        while True:\n",
    "            # Sample from prior\n",
    "            tsf= numpy.random.uniform()*tmax\n",
    "            # Sample K massive-star formation times\n",
    "            stars= numpy.random.uniform(size=K)*tsf\n",
    "            # Only accept if all go CCSN after SF ceases\n",
    "            if numpy.all(stars+tccsn > tsf): break\n",
    "        out.append(tsf)\n",
    "    return out"
   ]
  },
  {
   "cell_type": "markdown",
   "metadata": {},
   "source": [
    "The PDF for 1, 2, and 5 CCSN"
   ]
  },
  {
   "cell_type": "code",
   "execution_count": 3,
   "metadata": {
    "collapsed": false
   },
   "outputs": [],
   "source": [
    "pdf_1ccsn= sftime_ABC(n=100000)\n",
    "pdf_2ccsn= sftime_ABC(n=100000,K=2)\n",
    "pdf_5ccsn= sftime_ABC(n=100000,K=5)"
   ]
  },
  {
   "cell_type": "code",
   "execution_count": 4,
   "metadata": {
    "collapsed": false
   },
   "outputs": [
    {
     "name": "stdout",
     "output_type": "stream",
     "text": [
      "/Users/bovy/anaconda/lib/python2.7/site-packages/IPython/kernel/__main__.py:12: RuntimeWarning: divide by zero encountered in divide\n",
      "\n"
     ]
    },
    {
     "data": {
      "text/plain": [
       "[<matplotlib.lines.Line2D at 0x10da9cdd0>]"
      ]
     },
     "execution_count": 4,
     "metadata": {},
     "output_type": "execute_result"
    },
    {
     "data": {
      "image/png": "[encoded data removed]",
      "text/plain": [
       "<matplotlib.figure.Figure at 0x10d93c050>"
      ]
     },
     "metadata": {},
     "output_type": "display_data"
    }
   ],
   "source": [
    "dum=bovy_plot.bovy_hist(pdf_1ccsn,range=[0.,20.],\n",
    "                    bins=31,normed=True,\n",
    "                    histtype='step')\n",
    "dum=bovy_plot.bovy_hist(pdf_2ccsn,range=[0.,20.],\n",
    "                    bins=31,normed=True,\n",
    "                    histtype='step',overplot=True)\n",
    "dum=bovy_plot.bovy_hist(pdf_5ccsn,range=[0.,20.],\n",
    "                    bins=31,normed=True,\n",
    "                    histtype='step',overplot=True)\n",
    "#My analytical calculation for 1\n",
    "xs= numpy.linspace(0.,20.,1001)\n",
    "ys= 4./xs\n",
    "ys[xs < 4.]= 1.\n",
    "ys/= numpy.sum(ys)*(xs[1]-xs[0])\n",
    "plot(xs,ys)"
   ]
  },
  {
   "cell_type": "markdown",
   "metadata": {},
   "source": [
    "And the 95% confidence limits"
   ]
  },
  {
   "cell_type": "code",
   "execution_count": 5,
   "metadata": {
    "collapsed": false
   },
   "outputs": [
    {
     "name": "stdout",
     "output_type": "stream",
     "text": [
      "17.5804236339\n",
      "13.7889352021\n",
      "5.65371259035\n"
     ]
    }
   ],
   "source": [
    "print numpy.percentile(pdf_1ccsn,95)\n",
    "print numpy.percentile(pdf_2ccsn,95)\n",
    "print numpy.percentile(pdf_5ccsn,95)"
   ]
  },
  {
   "cell_type": "markdown",
   "metadata": {},
   "source": [
    "For 11 lighter CCSNe with 6 Myr lag"
   ]
  },
  {
   "cell_type": "code",
   "execution_count": 6,
   "metadata": {
    "collapsed": false
   },
   "outputs": [
    {
     "name": "stdout",
     "output_type": "stream",
     "text": [
      "6.37299120856\n"
     ]
    }
   ],
   "source": [
    "pdf_11ccsn= sftime_ABC(n=100000,K=11,tccsn=6.)\n",
    "print numpy.percentile(pdf_11ccsn,95)"
   ]
  },
  {
   "cell_type": "markdown",
   "metadata": {},
   "source": [
    "So both limits are about t_SF < 6 Myr at 95% confidence"
   ]
  },
  {
   "cell_type": "code",
   "execution_count": null,
   "metadata": {
    "collapsed": true
   },
   "outputs": [],
   "source": []
  }
 ],
 "metadata": {
  "kernelspec": {
   "display_name": "Python 2",
   "language": "python",
   "name": "python2"
  },
  "language_info": {
   "codemirror_mode": {
    "name": "ipython",
    "version": 2
   },
   "file_extension": ".py",
   "mimetype": "text/x-python",
   "name": "python",
   "nbconvert_exporter": "python",
   "pygments_lexer": "ipython2",
   "version": "2.7.10"
  }
 },
 "nbformat": 4,
 "nbformat_minor": 0
}
