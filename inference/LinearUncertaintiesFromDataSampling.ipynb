{
 "cells": [
  {
   "cell_type": "code",
   "execution_count": 1,
   "metadata": {
    "collapsed": false
   },
   "outputs": [
    {
     "name": "stdout",
     "output_type": "stream",
     "text": [
      "/Users/bovy/anaconda/envs/py27/lib/python2.7/site-packages/matplotlib/__init__.py:878: UserWarning: axes.color_cycle is deprecated and replaced with axes.prop_cycle; please use the latter.\n",
      "  warnings.warn(self.msg_depr % (key, alt_key))\n",
      "\n",
      "Populating the interactive namespace from numpy and matplotlib\n"
     ]
    }
   ],
   "source": [
    "import numpy\n",
    "from galpy.util import bovy_plot\n",
    "%pylab inline"
   ]
  },
  {
   "cell_type": "markdown",
   "metadata": {},
   "source": [
    "# Uncertainties on a linear fit using resampled data\n",
    "\n",
    "The PDF for the parameters $X$ of a linear model $Y = A\\,X$ with uncertainty covariance $C$ on the $Y$ measurement vector is a Gaussian with mean\n",
    "\n",
    "\\begin{equation}\n",
    "X = [A^T C^{-1} A]^{-1} [A^T C^{-1} Y]\n",
    "\\end{equation}\n",
    "\n",
    "and variance\n",
    "\n",
    "\\begin{equation}\n",
    "V = [A^T C^{-1} A]^{-1}.\n",
    "\\end{equation}\n",
    "\n",
    "The standard way to get this PDF is simply to compute these quantities. This may be difficult, especially for the variance (the mean can be obtained by solving the system of equations $[A^T C^{-1} A] X  = A^T C^{-1} Y$, thus avoiding the inverse-matrix operation, but this does not work for the variance).\n",
    "\n",
    "However, another method for computing the variance is to sample from the PDF in the following way. If we draw new $Y'$ data sets from the Gaussian with mean $Y$ and variance $C$ (thus, sampling the data from its uncertainty) and refit $X'$ for each $Y'$ it is easy to see the following:\n",
    "\n",
    "(a) The distribution of $X'$ is Gaussian: $X' = [A^T C^{-1} A]^{-1} [A^T C^{-1} Y']$, which is simply a linear transformation of a variable $Y'$ that has a Gaussian distribution $\\rightarrow$ $X'$ is Gaussian distributed.\n",
    "\n",
    "(b) The mean of $X'$ is $X$: \n",
    "\n",
    "\\begin{align}\n",
    "\\langle X'\\rangle & = \\langle [A^T C^{-1} A]^{-1} [A^T C^{-1} Y']\\rangle\\\\\n",
    "& = [A^T C^{-1} A]^{-1} [A^T C^{-1} \\langle Y' \\rangle] \\\\\n",
    "& = [A^T C^{-1} A]^{-1} [A^T C^{-1} Y]\\\\\n",
    "& = X\\,.\n",
    "\\end{align}\n",
    "\n",
    "(c) The variance of $X'$ is $V$: \n",
    "\n",
    "\\begin{align}\n",
    "\\langle X' X'^T\\rangle &  = \\langle[A^T C^{-1} A]^{-1} [A^T C^{-1} Y'] [Y'^T C^{-1} A] [A^T C^{-1} A]^{-1}\\rangle \\\\\n",
    "& = [A^T C^{-1} A]^{-1} A^T C^{-1} \\langle Y' Y'^T\\rangle C^{-1} A [A^T C^{-1} A]^{-1}\\\\\n",
    "& = [A^T C^{-1} A]^{-1} A^T C^{-1} A [A^T C^{-1} A]^{-1} \\\\\n",
    "& = [A^T C^{-1} A]^{-1} \\\\\n",
    "& = V\n",
    "\\end{align}\n",
    "because $\\langle Y' Y'^T \\rangle = C$. \n",
    "\n",
    "Therefore, the samples $X'$ obtained from fitting the re-sampled data $Y'$ are samples from the posterior PDF of the parameters $X$.\n",
    "\n",
    "Let's try this out using a simple example (using the data from exercise 1 in Hogg, Bovy, & Lang 2010). First we define the data and plot it:"
   ]
  },
  {
   "cell_type": "code",
   "execution_count": 2,
   "metadata": {
    "collapsed": true
   },
   "outputs": [],
   "source": [
    "data= numpy.array([[1,201,592,61,9,-0.84],\n",
    "                   [2,244,401,25,4,0.31],\n",
    "                   [3,47,583,38,11,0.64],\n",
    "                   [4,287,402,15,7,-0.27],\n",
    "                   [5,203,495,21,5,-0.33],\n",
    "                   [6,58,173,15,9,0.67],\n",
    "                   [7,210,479,27,4,-0.02],\n",
    "                   [8,202,504,14,4,-0.05],\n",
    "                   [9,198,510,30,11,-0.84],\n",
    "                   [10,158,416,16,7,-0.69],\n",
    "                   [11,165,393,14,5,0.30],\n",
    "                   [12,201,442,25,5,-0.46],\n",
    "                   [13,157,317,52,5,-0.03],\n",
    "                   [14,131,311,16,6,0.50],\n",
    "                   [15,166,400,34,6,0.73],\n",
    "                   [16,160,337,31,5,-0.52],\n",
    "                   [17,186,423,42,9,0.90],\n",
    "                   [18,125,334,26,8,0.40],\n",
    "                   [19,218,533,16,6,-0.78],\n",
    "                   [20,146,344,22,5,-0.56]])"
   ]
  },
  {
   "cell_type": "code",
   "execution_count": 3,
   "metadata": {
    "collapsed": false
   },
   "outputs": [
    {
     "data": {
      "text/plain": [
       "<Container object of 3 artists>"
      ]
     },
     "execution_count": 3,
     "metadata": {},
     "output_type": "execute_result"
    },
    {
     "data": {
      "image/png": "[encoded data removed]",
      "text/plain": [
       "<matplotlib.figure.Figure at 0x112845790>"
      ]
     },
     "metadata": {},
     "output_type": "display_data"
    }
   ],
   "source": [
    "bovy_plot.bovy_plot(data[4:,1],data[4:,2],'ko',\n",
    "                   xlabel=r'$x$',ylabel=r'$y$',\n",
    "                   xrange=[0.,300.],\n",
    "                   yrange=[0.,700.])\n",
    "errorbar(data[4:,1],data[4:,2],yerr=data[4:,3],marker='None',ls='none',\n",
    "         color='k')"
   ]
  },
  {
   "cell_type": "markdown",
   "metadata": {},
   "source": [
    "We define a simple function that does a linear fit and perform the standard linear fit:"
   ]
  },
  {
   "cell_type": "code",
   "execution_count": 4,
   "metadata": {
    "collapsed": true
   },
   "outputs": [],
   "source": [
    "def linfit(y,x,yerr):\n",
    "    # Generate Y and X arrays\n",
    "    A= numpy.vander(x,N=2)\n",
    "    Cinv= numpy.diag(1./yerr**2.)\n",
    "    Y= numpy.dot(A.T,numpy.dot(Cinv,y))\n",
    "    A= numpy.dot(A.T,numpy.dot(Cinv,A))\n",
    "    return (numpy.linalg.solve(A,Y),numpy.linalg.inv(A))"
   ]
  },
  {
   "cell_type": "code",
   "execution_count": 5,
   "metadata": {
    "collapsed": false
   },
   "outputs": [
    {
     "data": {
      "image/png": "[encoded data removed]",
      "text/plain": [
       "<matplotlib.figure.Figure at 0x115325510>"
      ]
     },
     "metadata": {},
     "output_type": "display_data"
    }
   ],
   "source": [
    "X, Xcov= linfit(data[4:,2],data[4:,1],data[4:,3])\n",
    "xxs= numpy.linspace(25.,275.,1001)\n",
    "bovy_plot.bovy_plot(data[4:,1],data[4:,2],'ko',\n",
    "                   xlabel=r'$x$',ylabel=r'$y$',\n",
    "                   xrange=[0.,300.],\n",
    "                   yrange=[0.,700.])\n",
    "errorbar(data[4:,1],data[4:,2],yerr=data[4:,3],marker='None',ls='none',\n",
    "        color='k')\n",
    "plot(xxs,numpy.dot(numpy.vander(xxs,N=2),X))\n",
    "bovy_plot.bovy_text(r'$y = (%.2f\\pm%.2f) x + (%.0f\\pm%.0f)$' % (X[0],numpy.sqrt(Xcov[0,0]),X[1],numpy.sqrt(Xcov[1,1])),\n",
    "                    bottom_right=True,size=15.)"
   ]
  },
  {
   "cell_type": "markdown",
   "metadata": {},
   "source": [
    "Now we compute the $X'$ samples and use the mean and variance to get the best-fit and the uncertainties:"
   ]
  },
  {
   "cell_type": "code",
   "execution_count": 6,
   "metadata": {
    "collapsed": false
   },
   "outputs": [
    {
     "data": {
      "image/png": "[encoded data removed]",
      "text/plain": [
       "<matplotlib.figure.Figure at 0x1159b1f90>"
      ]
     },
     "metadata": {},
     "output_type": "display_data"
    }
   ],
   "source": [
    "Xs= []\n",
    "nsamp= 10000\n",
    "for ii in range(nsamp):\n",
    "    X, Xcov= linfit(data[4:,2]+numpy.random.normal(size=len(data[4:,2]))*data[4:,3],\n",
    "                    data[4:,1],data[4:,3])\n",
    "    Xs.append(X)\n",
    "Xs= numpy.array(Xs)\n",
    "bovy_plot.bovy_plot(data[4:,1],data[4:,2],'ko',\n",
    "                   xlabel=r'$x$',ylabel=r'$y$',\n",
    "                   xrange=[0.,300.],\n",
    "                   yrange=[0.,700.])\n",
    "errorbar(data[4:,1],data[4:,2],yerr=data[4:,3],marker='None',ls='none',\n",
    "        color='k')\n",
    "plot(xxs,numpy.dot(numpy.vander(xxs,N=2),numpy.mean(Xs,axis=0)))\n",
    "bovy_plot.bovy_text(r'$y = (%.2f\\pm%.2f) x + (%.0f\\pm%.0f)$' % (numpy.mean(Xs,axis=0)[0],\n",
    "                                                                numpy.std(Xs,axis=0)[0],\n",
    "                                                                numpy.mean(Xs,axis=0)[1],\n",
    "                                                                numpy.std(Xs,axis=0)[1]),\n",
    "                    bottom_right=True,size=15.)"
   ]
  },
  {
   "cell_type": "markdown",
   "metadata": {},
   "source": [
    "The two agree!"
   ]
  },
  {
   "cell_type": "code",
   "execution_count": null,
   "metadata": {
    "collapsed": true
   },
   "outputs": [],
   "source": []
  }
 ],
 "metadata": {
  "kernelspec": {
   "display_name": "Python 2",
   "language": "python",
   "name": "python2"
  },
  "language_info": {
   "codemirror_mode": {
    "name": "ipython",
    "version": 2
   },
   "file_extension": ".py",
   "mimetype": "text/x-python",
   "name": "python",
   "nbconvert_exporter": "python",
   "pygments_lexer": "ipython2",
   "version": "2.7.10"
  }
 },
 "nbformat": 4,
 "nbformat_minor": 0
}
