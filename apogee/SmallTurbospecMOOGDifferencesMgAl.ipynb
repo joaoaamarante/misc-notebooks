{
 "cells": [
  {
   "cell_type": "code",
   "execution_count": 1,
   "metadata": {
    "collapsed": false
   },
   "outputs": [
    {
     "name": "stdout",
     "output_type": "stream",
     "text": [
      "Populating the interactive namespace from numpy and matplotlib\n"
     ]
    }
   ],
   "source": [
    "import apogee.modelspec.turbospec\n",
    "import apogee.modelspec.moog\n",
    "from apogee.modelatm import atlas9\n",
    "import apogee.spec.plot as splot\n",
    "from galpy.util import bovy_plot\n",
    "%pylab inline"
   ]
  },
  {
   "cell_type": "markdown",
   "metadata": {},
   "source": [
    "# Small differences between Turbospectrum and MOOG when varying individual elements"
   ]
  },
  {
   "cell_type": "markdown",
   "metadata": {},
   "source": [
    "We change Al and Mg by +/-0.5 dex and look at changes in the Al windows. First we set up the model atmosphere"
   ]
  },
  {
   "cell_type": "code",
   "execution_count": 2,
   "metadata": {
    "collapsed": true
   },
   "outputs": [],
   "source": [
    "atm= atlas9.Atlas9Atmosphere(teff=4500.,logg=2.5,metals=0.,am=0.,cm=0.)"
   ]
  },
  {
   "cell_type": "markdown",
   "metadata": {},
   "source": [
    "We first calculate the baseline, Al +/- 0.5 dex and Mg +/- 0.5 dex for Turbospectrum"
   ]
  },
  {
   "cell_type": "code",
   "execution_count": 3,
   "metadata": {
    "collapsed": false
   },
   "outputs": [
    {
     "name": "stdout",
     "output_type": "stream",
     "text": []
    }
   ],
   "source": [
    "turbo_base= apogee.modelspec.turbospec.synth(modelatm=atm,\n",
    "                                             linelist='turbospec.201312161124',\n",
    "                                             lsf='all',cont='true',vmacro=0.,\n",
    "                                             isotopes='arcturus')\n",
    "turbo_Al= apogee.modelspec.turbospec.synth([13,-0.5,0.5],\n",
    "                                           modelatm=atm,\n",
    "                                           linelist='turbospec.201312161124',\n",
    "                                           lsf='all',cont='true',vmacro=0.,\n",
    "                                           isotopes='arcturus')\n",
    "turbo_Mg= apogee.modelspec.turbospec.synth([12,-0.5,0.5],\n",
    "                                           modelatm=atm,\n",
    "                                           linelist='turbospec.201312161124',\n",
    "                                           lsf='all',cont='true',vmacro=0.,\n",
    "                                           isotopes='arcturus')"
   ]
  },
  {
   "cell_type": "markdown",
   "metadata": {},
   "source": [
    "Now for MOOG"
   ]
  },
  {
   "cell_type": "code",
   "execution_count": 4,
   "metadata": {
    "collapsed": false
   },
   "outputs": [
    {
     "name": "stdout",
     "output_type": "stream",
     "text": []
    }
   ],
   "source": [
    "moog_base= apogee.modelspec.moog.synth(modelatm=atm,\n",
    "                                        linelist='moog.201312161124.vac',\n",
    "                                        lsf='all',cont='true',vmacro=0.,\n",
    "                                        isotopes='arcturus')\n",
    "moog_Al= apogee.modelspec.moog.synth([13,-0.5,0.5],\n",
    "                                      modelatm=atm,\n",
    "                                      linelist='moog.201312161124.vac',\n",
    "                                      lsf='all',cont='true',vmacro=0.,\n",
    "                                      isotopes='arcturus')\n",
    "moog_Mg= apogee.modelspec.moog.synth([12,-0.5,0.5],\n",
    "                                      modelatm=atm,\n",
    "                                      linelist='moog.201312161124.vac',\n",
    "                                      lsf='all',cont='true',vmacro=0.,\n",
    "                                      isotopes='arcturus')"
   ]
  },
  {
   "cell_type": "markdown",
   "metadata": {},
   "source": [
    "Now we plot"
   ]
  },
  {
   "cell_type": "code",
   "execution_count": 6,
   "metadata": {
    "collapsed": false
   },
   "outputs": [
    {
     "data": {
      "image/png": "[encoded data removed]",
      "text/plain": [
       "<matplotlib.figure.Figure at 0x10eb73f50>"
      ]
     },
     "metadata": {},
     "output_type": "display_data"
    }
   ],
   "source": [
    "splot.windows(1.+turbo_Al[1]-turbo_base[0],'Al',yrange=[0.,1.3],color='r')\n",
    "splot.windows(1.+turbo_Al[0]-turbo_base[0],'Al',color='r',overplot=True)\n",
    "splot.windows(1.+turbo_Mg[1]-turbo_base[0],'Al',color='b',overplot=True)\n",
    "splot.windows(1.+turbo_Mg[0]-turbo_base[0],'Al',color='b',overplot=True)\n",
    "splot.windows(0.5+moog_Al[1]-moog_base[0],'Al',color='r',overplot=True)\n",
    "splot.windows(0.5+moog_Al[0]-moog_base[0],'Al',color='r',overplot=True)\n",
    "splot.windows(0.5+moog_Mg[1]-moog_base[0],'Al',color='b',overplot=True)\n",
    "splot.windows(0.5+moog_Mg[0]-moog_base[0],'Al',color='b',overplot=True)\n",
    "bovy_plot.bovy_text(0.5,1.15,r'$\\mathrm{Turbospectrum}$',size=16.)\n",
    "bovy_plot.bovy_text(0.5,0.6,r'$\\mathrm{MOOG}$',size=16.)"
   ]
  },
  {
   "cell_type": "code",
   "execution_count": null,
   "metadata": {
    "collapsed": true
   },
   "outputs": [],
   "source": []
  }
 ],
 "metadata": {
  "kernelspec": {
   "display_name": "Python 2",
   "language": "python",
   "name": "python2"
  },
  "language_info": {
   "codemirror_mode": {
    "name": "ipython",
    "version": 2
   },
   "file_extension": ".py",
   "mimetype": "text/x-python",
   "name": "python",
   "nbconvert_exporter": "python",
   "pygments_lexer": "ipython2",
   "version": "2.7.10"
  }
 },
 "nbformat": 4,
 "nbformat_minor": 0
}
