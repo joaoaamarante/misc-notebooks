{
 "metadata": {
  "name": "",
  "signature": "sha256:102c889fbc6f9e6126407f277cec1163892c4caf2b4b938925a4ac8737e376f8"
 },
 "nbformat": 3,
 "nbformat_minor": 0,
 "worksheets": [
  {
   "cells": [
    {
     "cell_type": "code",
     "collapsed": false,
     "input": [
      "try:\n",
      "    reload(apogee.modelspec.turbospec)\n",
      "    reload(apogee.modelspec.moog)\n",
      "except NameError:\n",
      "    import apogee.modelspec.turbospec\n",
      "    import apogee.modelspec.moog\n",
      "import apogee.modelspec.ferre\n",
      "from apogee.modelatm import atlas9\n",
      "from apogee.spec.plot import apStarWavegrid\n",
      "import apogee.spec.plot as splot\n",
      "import tempfile\n",
      "import os\n",
      "from galpy.util import bovy_plot"
     ],
     "language": "python",
     "metadata": {},
     "outputs": [],
     "prompt_number": 1
    },
    {
     "cell_type": "heading",
     "level": 1,
     "metadata": {},
     "source": [
      "A comparison between Kurucz/Turbospectrum, Kurucz/MOOG, and Kurucz/ASSeT"
     ]
    },
    {
     "cell_type": "heading",
     "level": 2,
     "metadata": {},
     "source": [
      "Comparison between MOOG and Turbospectrum (true-)continuum-normalized spectra at high-resolution"
     ]
    },
    {
     "cell_type": "code",
     "collapsed": false,
     "input": [
      "teffs= [3500,4500]\n",
      "loggs= [0,2,4]"
     ],
     "language": "python",
     "metadata": {},
     "outputs": [],
     "prompt_number": 2
    },
    {
     "cell_type": "code",
     "collapsed": false,
     "input": [
      "moogspecs_hires= []\n",
      "for teff in teffs:\n",
      "    for logg in loggs:\n",
      "        atm= atlas9.Atlas9Atmosphere(teff=teff,logg=logg)\n",
      "        atmFile= tempfile.mktemp(dir=os.getcwd())+'.mod'\n",
      "        atm.writeto(atmFile)\n",
      "        try:\n",
      "            moogspecs_hires.append(apogee.modelspec.moog.moogsynth(modelatm=atmFile,linelist='moog.201312161124.vac',\n",
      "                                                                   wmin=15150.,wmax=16930.,dw=0.02,vmicro=2.,\n",
      "                                                                   isotopes='solar')[1][0])\n",
      "        finally:\n",
      "            os.remove(atmFile)"
     ],
     "language": "python",
     "metadata": {},
     "outputs": [
      {
       "output_type": "stream",
       "stream": "stdout",
       "text": [
        "\r",
        "Running MOOG synth ...\r"
       ]
      },
      {
       "output_type": "stream",
       "stream": "stdout",
       "text": [
        "\r",
        "                                                                                \r"
       ]
      },
      {
       "output_type": "stream",
       "stream": "stdout",
       "text": [
        "\r",
        "Running MOOG synth ...\r"
       ]
      },
      {
       "output_type": "stream",
       "stream": "stdout",
       "text": [
        "\r",
        "                                                                                \r"
       ]
      },
      {
       "output_type": "stream",
       "stream": "stdout",
       "text": [
        "\r",
        "Running MOOG synth ...\r"
       ]
      },
      {
       "output_type": "stream",
       "stream": "stdout",
       "text": [
        "\r",
        "                                                                                \r"
       ]
      },
      {
       "output_type": "stream",
       "stream": "stdout",
       "text": [
        "\r",
        "Running MOOG synth ...\r"
       ]
      },
      {
       "output_type": "stream",
       "stream": "stdout",
       "text": [
        "\r",
        "                                                                                \r"
       ]
      },
      {
       "output_type": "stream",
       "stream": "stdout",
       "text": [
        "\r",
        "Running MOOG synth ...\r"
       ]
      },
      {
       "output_type": "stream",
       "stream": "stdout",
       "text": [
        "\r",
        "                                                                                \r"
       ]
      },
      {
       "output_type": "stream",
       "stream": "stdout",
       "text": [
        "\r",
        "Running MOOG synth ...\r"
       ]
      },
      {
       "output_type": "stream",
       "stream": "stdout",
       "text": [
        "\r",
        "                                                                                \r"
       ]
      }
     ],
     "prompt_number": 3
    },
    {
     "cell_type": "code",
     "collapsed": false,
     "input": [
      "turbospecs_hires= []\n",
      "for teff in teffs:\n",
      "    for logg in loggs:\n",
      "        atm= atlas9.Atlas9Atmosphere(teff=teff,logg=logg)\n",
      "        turbospecs_hires.append(apogee.modelspec.turbospec.turbosynth(modelatm=atm,linelist='turbospec.201312161124.new.vac',\n",
      "                                                                      Hlinelist='Hlinedata.vac',\n",
      "                                                                      wmin=15150.,wmax=16930.,dw=0.02,vmicro=2.,\n",
      "                                                                      isotopes='solar')[1])"
     ],
     "language": "python",
     "metadata": {},
     "outputs": [
      {
       "output_type": "stream",
       "stream": "stdout",
       "text": [
        "\r",
        "Running Turbospectrum babsma_lu ...\r"
       ]
      },
      {
       "output_type": "stream",
       "stream": "stdout",
       "text": [
        "\r",
        "                                                                                \r"
       ]
      },
      {
       "output_type": "stream",
       "stream": "stdout",
       "text": [
        "\r",
        "Running Turbospectrum bsyn_lu ...\r"
       ]
      },
      {
       "output_type": "stream",
       "stream": "stdout",
       "text": [
        "\r",
        "                                                                                \r"
       ]
      },
      {
       "output_type": "stream",
       "stream": "stdout",
       "text": [
        "\r",
        "Running Turbospectrum babsma_lu ...\r"
       ]
      },
      {
       "output_type": "stream",
       "stream": "stdout",
       "text": [
        "\r",
        "                                                                                \r"
       ]
      },
      {
       "output_type": "stream",
       "stream": "stdout",
       "text": [
        "\r",
        "Running Turbospectrum bsyn_lu ...\r"
       ]
      },
      {
       "output_type": "stream",
       "stream": "stdout",
       "text": [
        "\r",
        "                                                                                \r"
       ]
      },
      {
       "output_type": "stream",
       "stream": "stdout",
       "text": [
        "\r",
        "Running Turbospectrum babsma_lu ...\r"
       ]
      },
      {
       "output_type": "stream",
       "stream": "stdout",
       "text": [
        "\r",
        "                                                                                \r"
       ]
      },
      {
       "output_type": "stream",
       "stream": "stdout",
       "text": [
        "\r",
        "Running Turbospectrum bsyn_lu ...\r"
       ]
      },
      {
       "output_type": "stream",
       "stream": "stdout",
       "text": [
        "\r",
        "                                                                                \r"
       ]
      },
      {
       "output_type": "stream",
       "stream": "stdout",
       "text": [
        "\r",
        "Running Turbospectrum babsma_lu ...\r"
       ]
      },
      {
       "output_type": "stream",
       "stream": "stdout",
       "text": [
        "\r",
        "                                                                                \r"
       ]
      },
      {
       "output_type": "stream",
       "stream": "stdout",
       "text": [
        "\r",
        "Running Turbospectrum bsyn_lu ...\r"
       ]
      },
      {
       "output_type": "stream",
       "stream": "stdout",
       "text": [
        "\r",
        "                                                                                \r"
       ]
      },
      {
       "output_type": "stream",
       "stream": "stdout",
       "text": [
        "\r",
        "Running Turbospectrum babsma_lu ...\r"
       ]
      },
      {
       "output_type": "stream",
       "stream": "stdout",
       "text": [
        "\r",
        "                                                                                \r"
       ]
      },
      {
       "output_type": "stream",
       "stream": "stdout",
       "text": [
        "\r",
        "Running Turbospectrum bsyn_lu ...\r"
       ]
      },
      {
       "output_type": "stream",
       "stream": "stdout",
       "text": [
        "\r",
        "                                                                                \r"
       ]
      },
      {
       "output_type": "stream",
       "stream": "stdout",
       "text": [
        "\r",
        "Running Turbospectrum babsma_lu ...\r"
       ]
      },
      {
       "output_type": "stream",
       "stream": "stdout",
       "text": [
        "\r",
        "                                                                                \r"
       ]
      },
      {
       "output_type": "stream",
       "stream": "stdout",
       "text": [
        "\r",
        "Running Turbospectrum bsyn_lu ...\r"
       ]
      },
      {
       "output_type": "stream",
       "stream": "stdout",
       "text": [
        "\r",
        "                                                                                \r"
       ]
      }
     ],
     "prompt_number": 4
    },
    {
     "cell_type": "code",
     "collapsed": false,
     "input": [
      "#Exclude region around Hydrogen lines\n",
      "wav= numpy.linspace(15150.,16930.,89001)\n",
      "hlines= [15004.970,15043.157,15086.906,15137.367,15196.005,15264.717,\n",
      "             15345.992,15443.148,15560.708,15704.960,15884.888,16113.721,\n",
      "             16411.681,16811.117]\n",
      "cmpIndx= numpy.ones(len(wav),dtype='bool')\n",
      "for hline in hlines:\n",
      "    cmpIndx[numpy.fabs(wav-hline) < 10.]= False"
     ],
     "language": "python",
     "metadata": {},
     "outputs": [],
     "prompt_number": 5
    },
    {
     "cell_type": "code",
     "collapsed": false,
     "input": [
      "cnt= 0\n",
      "for teff in teffs:\n",
      "    for logg in loggs:\n",
      "        print teff, logg, numpy.nanmean((moogspecs_hires[cnt]-turbospecs_hires[cnt])[cmpIndx]), \\\n",
      "            numpy.nanstd((moogspecs_hires[cnt]-turbospecs_hires[cnt])[cmpIndx]), \\\n",
      "            numpy.nanmax((numpy.fabs(moogspecs_hires[cnt]-turbospecs_hires[cnt]))[cmpIndx])\n",
      "        cnt+= 1"
     ],
     "language": "python",
     "metadata": {},
     "outputs": [
      {
       "output_type": "stream",
       "stream": "stdout",
       "text": [
        "3500 0 -0.00590230753652 0.00698771920423 0.17033\n",
        "3500 2 -0.00543194830511 0.00769627472406 0.10416\n",
        "3500 4 -0.00481757765626 0.0115832688641 0.07014\n",
        "4500 0 -0.00306272524746 0.0066908328459 0.29269\n",
        "4500 2 -0.00248928508139 0.00401248852468 0.09589\n",
        "4500 4 -0.00220162464241 0.00276247664386 0.05866\n"
       ]
      }
     ],
     "prompt_number": 6
    },
    {
     "cell_type": "heading",
     "level": 2,
     "metadata": {},
     "source": [
      "Comparison between Kurucz/Turbospectrum, Kurucz/MOOG, and Kurucz/ASSeT after LSF convolution and pseudo-continuum normalization"
     ]
    },
    {
     "cell_type": "code",
     "collapsed": false,
     "input": [
      "moogspecs= []\n",
      "for teff in teffs:\n",
      "    for logg in loggs:\n",
      "        atm= atlas9.Atlas9Atmosphere(teff=teff,logg=logg)\n",
      "        moogspecs.append(apogee.modelspec.moog.synth(modelatm=atm,linelist='moog.201312161124.vac',\n",
      "                                                     vmicro=2.478-0.325*logg,\n",
      "                                                     lsf='combo',cont='aspcap',vmacro=6.,isotopes='solar'))"
     ],
     "language": "python",
     "metadata": {},
     "outputs": [
      {
       "output_type": "stream",
       "stream": "stdout",
       "text": [
        "\r",
        "Running MOOG synth ...\r"
       ]
      },
      {
       "output_type": "stream",
       "stream": "stdout",
       "text": [
        "\r",
        "                                                                                \r"
       ]
      },
      {
       "output_type": "stream",
       "stream": "stdout",
       "text": [
        "\r",
        "Running MOOG synth ...\r"
       ]
      },
      {
       "output_type": "stream",
       "stream": "stdout",
       "text": [
        "\r",
        "                                                                                \r"
       ]
      },
      {
       "output_type": "stream",
       "stream": "stdout",
       "text": [
        "/Library/Python/2.7/site-packages/numpy/core/fromnumeric.py:2507: VisibleDeprecationWarning: `rank` is deprecated; use the `ndim` attribute or function instead. To find the rank of a matrix see `numpy.linalg.matrix_rank`.\n",
        "  VisibleDeprecationWarning)\n",
        "\n",
        "/Users/bovy/Repos/apogee/apogee/modelspec/moog.py:179: RuntimeWarning: divide by zero encountered in divide\n",
        "  out[cflux > 0.]/= cflux[cflux > 0.]\n"
       ]
      },
      {
       "output_type": "stream",
       "stream": "stdout",
       "text": [
        "\n",
        "\r",
        "Running MOOG synth ...\r"
       ]
      },
      {
       "output_type": "stream",
       "stream": "stdout",
       "text": [
        "\r",
        "                                                                                \r"
       ]
      },
      {
       "output_type": "stream",
       "stream": "stdout",
       "text": [
        "\r",
        "Running MOOG synth ...\r"
       ]
      },
      {
       "output_type": "stream",
       "stream": "stdout",
       "text": [
        "\r",
        "                                                                                \r"
       ]
      },
      {
       "output_type": "stream",
       "stream": "stdout",
       "text": [
        "\r",
        "Running MOOG synth ...\r"
       ]
      },
      {
       "output_type": "stream",
       "stream": "stdout",
       "text": [
        "\r",
        "                                                                                \r"
       ]
      },
      {
       "output_type": "stream",
       "stream": "stdout",
       "text": [
        "\r",
        "Running MOOG synth ...\r"
       ]
      },
      {
       "output_type": "stream",
       "stream": "stdout",
       "text": [
        "\r",
        "                                                                                \r"
       ]
      },
      {
       "output_type": "stream",
       "stream": "stdout",
       "text": [
        "\r",
        "Running MOOG synth ...\r"
       ]
      },
      {
       "output_type": "stream",
       "stream": "stdout",
       "text": [
        "\r",
        "                                                                                \r"
       ]
      },
      {
       "output_type": "stream",
       "stream": "stdout",
       "text": [
        "\r",
        "Running MOOG synth ...\r"
       ]
      },
      {
       "output_type": "stream",
       "stream": "stdout",
       "text": [
        "\r",
        "                                                                                \r"
       ]
      },
      {
       "output_type": "stream",
       "stream": "stdout",
       "text": [
        "\r",
        "Running MOOG synth ...\r"
       ]
      },
      {
       "output_type": "stream",
       "stream": "stdout",
       "text": [
        "\r",
        "                                                                                \r"
       ]
      },
      {
       "output_type": "stream",
       "stream": "stdout",
       "text": [
        "\r",
        "Running MOOG synth ...\r"
       ]
      },
      {
       "output_type": "stream",
       "stream": "stdout",
       "text": [
        "\r",
        "                                                                                \r"
       ]
      },
      {
       "output_type": "stream",
       "stream": "stdout",
       "text": [
        "\r",
        "Running MOOG synth ...\r"
       ]
      },
      {
       "output_type": "stream",
       "stream": "stdout",
       "text": [
        "\r",
        "                                                                                \r"
       ]
      },
      {
       "output_type": "stream",
       "stream": "stdout",
       "text": [
        "\r",
        "Running MOOG synth ...\r"
       ]
      },
      {
       "output_type": "stream",
       "stream": "stdout",
       "text": [
        "\r",
        "                                                                                \r"
       ]
      }
     ],
     "prompt_number": 7
    },
    {
     "cell_type": "code",
     "collapsed": false,
     "input": [
      "turbospecs= []\n",
      "for teff in teffs:\n",
      "    for logg in loggs:\n",
      "        atm= atlas9.Atlas9Atmosphere(teff=teff,logg=logg)\n",
      "        turbospecs.append(apogee.modelspec.turbospec.synth(modelatm=atm,linelist='turbospec.201312161124.new.vac',\n",
      "                                                           Hlinelist='Hlinedata.vac',\n",
      "                                                           vmicro=2.478-0.325*logg,\n",
      "                                                           lsf='combo',cont='aspcap',vmacro=6.,isotopes='solar'))"
     ],
     "language": "python",
     "metadata": {},
     "outputs": [
      {
       "output_type": "stream",
       "stream": "stdout",
       "text": [
        "\r",
        "Running Turbospectrum babsma_lu ...\r"
       ]
      },
      {
       "output_type": "stream",
       "stream": "stdout",
       "text": [
        "\r",
        "                                                                                \r"
       ]
      },
      {
       "output_type": "stream",
       "stream": "stdout",
       "text": [
        "\r",
        "Running Turbospectrum bsyn_lu ...\r"
       ]
      },
      {
       "output_type": "stream",
       "stream": "stdout",
       "text": [
        "\r",
        "                                                                                \r"
       ]
      },
      {
       "output_type": "stream",
       "stream": "stdout",
       "text": [
        "/Users/bovy/Repos/apogee/apogee/modelspec/turbospec.py:154: RuntimeWarning: divide by zero encountered in divide\n",
        "  out[cflux > 0.]/= cflux[cflux > 0.]\n",
        "\n",
        "\r",
        "Running Turbospectrum babsma_lu ...\r"
       ]
      },
      {
       "output_type": "stream",
       "stream": "stdout",
       "text": [
        "\r",
        "                                                                                \r"
       ]
      },
      {
       "output_type": "stream",
       "stream": "stdout",
       "text": [
        "\r",
        "Running Turbospectrum bsyn_lu ...\r"
       ]
      },
      {
       "output_type": "stream",
       "stream": "stdout",
       "text": [
        "\r",
        "                                                                                \r"
       ]
      },
      {
       "output_type": "stream",
       "stream": "stdout",
       "text": [
        "\r",
        "Running Turbospectrum babsma_lu ...\r"
       ]
      },
      {
       "output_type": "stream",
       "stream": "stdout",
       "text": [
        "\r",
        "                                                                                \r"
       ]
      },
      {
       "output_type": "stream",
       "stream": "stdout",
       "text": [
        "\r",
        "Running Turbospectrum bsyn_lu ...\r"
       ]
      },
      {
       "output_type": "stream",
       "stream": "stdout",
       "text": [
        "\r",
        "                                                                                \r"
       ]
      },
      {
       "output_type": "stream",
       "stream": "stdout",
       "text": [
        "\r",
        "Running Turbospectrum babsma_lu ...\r"
       ]
      },
      {
       "output_type": "stream",
       "stream": "stdout",
       "text": [
        "\r",
        "                                                                                \r"
       ]
      },
      {
       "output_type": "stream",
       "stream": "stdout",
       "text": [
        "\r",
        "Running Turbospectrum bsyn_lu ...\r"
       ]
      },
      {
       "output_type": "stream",
       "stream": "stdout",
       "text": [
        "\r",
        "                                                                                \r"
       ]
      },
      {
       "output_type": "stream",
       "stream": "stdout",
       "text": [
        "\r",
        "Running Turbospectrum babsma_lu ...\r"
       ]
      },
      {
       "output_type": "stream",
       "stream": "stdout",
       "text": [
        "\r",
        "                                                                                \r"
       ]
      },
      {
       "output_type": "stream",
       "stream": "stdout",
       "text": [
        "\r",
        "Running Turbospectrum bsyn_lu ...\r"
       ]
      },
      {
       "output_type": "stream",
       "stream": "stdout",
       "text": [
        "\r",
        "                                                                                \r"
       ]
      },
      {
       "output_type": "stream",
       "stream": "stdout",
       "text": [
        "\r",
        "Running Turbospectrum babsma_lu ...\r"
       ]
      },
      {
       "output_type": "stream",
       "stream": "stdout",
       "text": [
        "\r",
        "                                                                                \r"
       ]
      },
      {
       "output_type": "stream",
       "stream": "stdout",
       "text": [
        "\r",
        "Running Turbospectrum bsyn_lu ...\r"
       ]
      },
      {
       "output_type": "stream",
       "stream": "stdout",
       "text": [
        "\r",
        "                                                                                \r"
       ]
      }
     ],
     "prompt_number": 8
    },
    {
     "cell_type": "code",
     "collapsed": false,
     "input": [
      "assetspecs= []\n",
      "for teff in teffs:\n",
      "    for logg in loggs:\n",
      "        assetspecs.append(apogee.modelspec.ferre.interpolate(teff,logg,0.,0.,0.,0.))"
     ],
     "language": "python",
     "metadata": {},
     "outputs": [],
     "prompt_number": 9
    },
    {
     "cell_type": "code",
     "collapsed": false,
     "input": [
      "#Exclude region around Hydrogen lines\n",
      "wav= apStarWavegrid()\n",
      "hlines= [15004.970,15043.157,15086.906,15137.367,15196.005,15264.717,\n",
      "             15345.992,15443.148,15560.708,15704.960,15884.888,16113.721,\n",
      "             16411.681,16811.117]\n",
      "cmpIndx= numpy.ones(len(wav),dtype='bool')\n",
      "for hline in hlines:\n",
      "    cmpIndx[numpy.fabs(wav-hline) < 10.]= False"
     ],
     "language": "python",
     "metadata": {},
     "outputs": [],
     "prompt_number": 10
    },
    {
     "cell_type": "code",
     "collapsed": false,
     "input": [
      "print \"||= '''T,,eff,,''' =||= '''logg g''' =|||||||| '''ASSeT - Turbospec''' |||||||| '''ASSeT - MOOG''' |||||||| '''Turbospec - MOOG''' ||\"\n",
      "print '|| || || mean || std. dev. || robust std. dev. || max. diff || mean || std. dev. || robust std. dev. || max. diff || mean || std. dev. || robust std. dev. || max. diff ||' \n",
      "cnt= 0\n",
      "for teff in teffs:\n",
      "    for logg in loggs:\n",
      "        print '|| {teff} || {logg} || {mat:.3f} || {sat:.3f} || {rat:.3f} || {dat:.3f} || {mam:.3f} || {sam:.3f} || {ram:.3f} || {dam:.3f} || {mtm:.3f} || {stm:.3f} || {rtm:.3f} || {dtm:.3f} ||'\\\n",
      "        .format(teff=teff,logg=logg,\n",
      "                mat=numpy.nanmean((assetspecs[cnt]-turbospecs[cnt])[0,cmpIndx]),\n",
      "                sat=numpy.nanstd((assetspecs[cnt]-turbospecs[cnt])[0,cmpIndx]),\n",
      "                rat=1.4836*numpy.nanmedian((numpy.fabs(assetspecs[cnt]-turbospecs[cnt]-numpy.nanmedian((assetspecs[cnt]-turbospecs[cnt])[0,cmpIndx]))[0,cmpIndx])),\n",
      "                dat=numpy.nanmax((numpy.fabs(assetspecs[cnt]-turbospecs[cnt]))[0,cmpIndx]),\n",
      "                mam=numpy.nanmean((assetspecs[cnt]-moogspecs[cnt])[0,cmpIndx]),\n",
      "                sam=numpy.nanstd((assetspecs[cnt]-moogspecs[cnt])[0,cmpIndx]),\n",
      "                ram=1.4836*numpy.nanmedian((numpy.fabs(assetspecs[cnt]-moogspecs[cnt]-numpy.nanmedian((assetspecs[cnt]-moogspecs[cnt])[0,cmpIndx])))[0,cmpIndx]),\n",
      "                dam=numpy.nanmax((numpy.fabs(assetspecs[cnt]-moogspecs[cnt]))[0,cmpIndx]),\n",
      "                mtm=numpy.nanmean((turbospecs[cnt]-moogspecs[cnt])[0,cmpIndx]),\n",
      "                stm=numpy.nanstd((turbospecs[cnt]-moogspecs[cnt])[0,cmpIndx]),\n",
      "                rtm=1.4836*numpy.nanmedian((numpy.fabs(turbospecs[cnt]-moogspecs[cnt]-numpy.nanmedian((turbospecs[cnt]-moogspecs[cnt])[0,cmpIndx])))[0,cmpIndx]),\n",
      "                dtm=numpy.nanmax((numpy.fabs(turbospecs[cnt]-moogspecs[cnt]))[0,cmpIndx]))\n",
      "        cnt+= 1"
     ],
     "language": "python",
     "metadata": {},
     "outputs": [
      {
       "output_type": "stream",
       "stream": "stdout",
       "text": [
        "||= '''T,,eff,,''' =||= '''logg g''' =|||||||| '''ASSeT - Turbospec''' |||||||| '''ASSeT - MOOG''' |||||||| '''Turbospec - MOOG''' ||\n",
        "|| || || mean || std. dev. || robust std. dev. || max. diff || mean || std. dev. || robust std. dev. || max. diff || mean || std. dev. || robust std. dev. || max. diff ||\n",
        "-c:15: RuntimeWarning: invalid value encountered in subtract\n",
        "\n",
        "-c:16: RuntimeWarning: invalid value encountered in subtract\n",
        "\n",
        "-c:17: RuntimeWarning: invalid value encountered in subtract\n",
        "\n",
        "-c:18: RuntimeWarning: invalid value encountered in subtract\n",
        "\n",
        "|| 3500 || 0 || 0.002 || 0.006 || 0.006 || 0.035 || 0.006 || 0.009 || 0.009 || 0.045 || 0.004 || 0.005 || 0.005 || 0.044 ||\n",
        "|| 3500 || 2 || 0.000 || 0.004 || 0.003 || 0.016 || 0.004 || 0.006 || 0.005 || 0.036 || 0.003 || 0.005 || 0.004 || 0.029 ||\n",
        "|| 3500 || 4 || -0.003 || 0.006 || 0.002 || 0.036 || 0.002 || 0.005 || 0.003 || 0.032 || 0.005 || 0.009 || 0.003 || 0.043 ||"
       ]
      },
      {
       "output_type": "stream",
       "stream": "stdout",
       "text": [
        "\n",
        "|| 4500 || 0 || 0.002 || 0.004 || 0.003 || 0.077 || 0.007 || 0.007 || 0.006 || 0.042 || 0.005 || 0.004 || 0.004 || 0.091 ||\n",
        "|| 4500 || 2 || 0.002 || 0.003 || 0.002 || 0.023 || 0.003 || 0.004 || 0.004 || 0.027 || 0.001 || 0.002 || 0.002 || 0.025 ||\n",
        "|| 4500 || 4 || 0.001 || 0.003 || 0.002 || 0.016 || 0.002 || 0.004 || 0.003 || 0.023 || 0.001 || 0.002 || 0.002 || 0.025 ||\n"
       ]
      }
     ],
     "prompt_number": 11
    },
    {
     "cell_type": "heading",
     "level": 2,
     "metadata": {},
     "source": [
      "Analyze the spectra with the ASSeT library"
     ]
    },
    {
     "cell_type": "code",
     "collapsed": false,
     "input": [
      "fparam_asset= []\n",
      "fparam_moog= []\n",
      "cnt= 0\n",
      "errs= numpy.ones(8575)*0.01\n",
      "errs[True-cmpIndx]= 10. #remove areas around H lines\n",
      "for teff in teffs:\n",
      "    for logg in loggs:\n",
      "        fparam_asset.append(apogee.modelspec.ferre.fit(assetspecs[cnt],errs))\n",
      "        fparam_moog.append(apogee.modelspec.ferre.fit(moogspecs[cnt][0],errs))\n",
      "        cnt+= 1"
     ],
     "language": "python",
     "metadata": {},
     "outputs": [],
     "prompt_number": 12
    },
    {
     "cell_type": "code",
     "collapsed": false,
     "input": [
      "fparam_turbo= []\n",
      "cnt= 0\n",
      "errs= numpy.ones(8575)*0.01\n",
      "errs[True-cmpIndx]= 10. #remove areas around H lines\n",
      "for teff in teffs:\n",
      "    for logg in loggs:\n",
      "        fparam_turbo.append(apogee.modelspec.ferre.fit(turbospecs[cnt][0],errs))\n",
      "        cnt+= 1"
     ],
     "language": "python",
     "metadata": {},
     "outputs": [],
     "prompt_number": 13
    },
    {
     "cell_type": "code",
     "collapsed": false,
     "input": [
      "print \"||= '''T,,eff,,''' =||= '''logg g''' =||||||||||||= '''ASSeT - Turbospec''' =||||||||||||= '''ASSeT - MOOG''' =||||||||||||= '''Turbospec - MOOG''' =||\"\n",
      "print '|| || || dT,,eff,, || dlog(g) || dmetals || d[C/Fe] || d[N/Fe] || d[a/Fe] || dT,,eff,, || dlog(g) || dmetals || d[C/Fe] || d[N/Fe] || d[a/Fe] || dT,,eff,, || dlog(g) || dmetals || d[C/Fe] || d[N/Fe] || d[a/Fe] ||' \n",
      "cnt= 0\n",
      "for teff in teffs:\n",
      "    for logg in loggs:\n",
      "        thisline= '|| {teff} || {logg} || '.format(teff=teff,logg=logg)\n",
      "        for fp in [fparam_asset[cnt]-fparam_turbo[cnt],fparam_asset[cnt]-fparam_moog[cnt],fparam_turbo[cnt]-fparam_moog[cnt]]:\n",
      "            for indx in [0,1,3,4,5,6]:\n",
      "                if indx == 0:\n",
      "                    thisline+= '{fp:.0f} ||'.format(fp=fp[0,indx])\n",
      "                else:\n",
      "                    thisline+= '{fp:.2f} ||'.format(fp=fp[0,indx])\n",
      "        print thisline\n",
      "        cnt+= 1"
     ],
     "language": "python",
     "metadata": {},
     "outputs": [
      {
       "output_type": "stream",
       "stream": "stdout",
       "text": [
        "||= '''T,,eff,,''' =||= '''logg g''' =||||||||||||= '''ASSeT - Turbospec''' =||||||||||||= '''ASSeT - MOOG''' =||||||||||||= '''Turbospec - MOOG''' =||\n",
        "|| || || dT,,eff,, || dlog(g) || dmetals || d[C/Fe] || d[N/Fe] || d[a/Fe] || dT,,eff,, || dlog(g) || dmetals || d[C/Fe] || d[N/Fe] || d[a/Fe] || dT,,eff,, || dlog(g) || dmetals || d[C/Fe] || d[N/Fe] || d[a/Fe] ||\n",
        "|| 3500 || 0 || 7 ||-0.00 ||-0.06 ||0.01 ||0.06 ||0.02 ||12 ||0.00 ||-0.10 ||-0.01 ||-0.02 ||-0.03 ||5 ||0.00 ||-0.05 ||-0.02 ||-0.08 ||-0.06 ||\n",
        "|| 3500 || 2 || -10 ||-0.01 ||-0.04 ||0.01 ||0.04 ||0.01 ||5 ||0.13 ||-0.04 ||0.01 ||-0.04 ||-0.03 ||14 ||0.13 ||0.00 ||0.00 ||-0.08 ||-0.03 ||\n",
        "|| 3500 || 4 || -25 ||-0.08 ||-0.00 ||-0.04 ||-0.68 ||-0.02 ||3 ||0.03 ||-0.02 ||-0.01 ||-0.05 ||-0.02 ||29 ||0.11 ||-0.02 ||0.03 ||0.62 ||0.00 ||\n",
        "|| 4500 || 0 || -9 ||-0.02 ||-0.06 ||0.00 ||0.04 ||0.02 ||-8 ||0.01 ||-0.11 ||0.01 ||0.00 ||-0.01 ||1 ||0.03 ||-0.05 ||0.01 ||-0.04 ||-0.03 ||\n",
        "|| 4500 || 2 || 9 ||-0.01 ||-0.04 ||0.02 ||0.03 ||0.02 ||5 ||0.04 ||-0.06 ||0.01 ||-0.01 ||-0.01 ||-4 ||0.06 ||-0.02 ||-0.01 ||-0.04 ||-0.03 ||\n",
        "|| 4500 || 4 || 5 ||-0.03 ||-0.04 ||0.00 ||0.04 ||0.01 ||9 ||-0.02 ||-0.07 ||-0.01 ||0.04 ||0.01 ||4 ||0.00 ||-0.03 ||-0.01 ||0.00 ||-0.01 ||\n"
       ]
      }
     ],
     "prompt_number": 14
    },
    {
     "cell_type": "heading",
     "level": 2,
     "metadata": {},
     "source": [
      "Comparing individual elements derived from different syntheses"
     ]
    },
    {
     "cell_type": "code",
     "collapsed": false,
     "input": [
      "felem_asset= []\n",
      "felem_moog= []\n",
      "cnt= 0\n",
      "errs= numpy.ones(8575)*0.01\n",
      "errs[True-cmpIndx]= 10. #remove areas around H lines\n",
      "for teff in teffs:\n",
      "    for logg in loggs:\n",
      "        felem_asset.append(apogee.modelspec.ferre.elemfitall(assetspecs[cnt],errs,fparam=fparam_asset[cnt]))\n",
      "        felem_moog.append(apogee.modelspec.ferre.elemfitall(moogspecs[cnt][0],errs,fparam=fparam_moog[cnt]))\n",
      "        cnt+= 1"
     ],
     "language": "python",
     "metadata": {},
     "outputs": [],
     "prompt_number": 15
    },
    {
     "cell_type": "code",
     "collapsed": false,
     "input": [
      "felem_turbo= []\n",
      "cnt= 0\n",
      "errs= numpy.ones(8575)*0.01\n",
      "errs[True-cmpIndx]= 10. #remove areas around H lines\n",
      "for teff in teffs:\n",
      "    for logg in loggs:\n",
      "        felem_turbo.append(apogee.modelspec.ferre.elemfitall(turbospecs[cnt][0],errs,fparam=fparam_turbo[cnt]))\n",
      "        cnt+= 1"
     ],
     "language": "python",
     "metadata": {},
     "outputs": [],
     "prompt_number": 16
    },
    {
     "cell_type": "code",
     "collapsed": false,
     "input": [
      "figsize(24,24)\n",
      "cnt= 0\n",
      "icnt= 0\n",
      "for teff in teffs:\n",
      "    for logg in loggs:\n",
      "        for dxh in [dict(zip(felem_asset[cnt].keys(),[felem_asset[cnt][k]-felem_turbo[cnt][k] for k in felem_asset[cnt].keys()])),\n",
      "                   dict(zip(felem_asset[cnt].keys(),[felem_asset[cnt][k]-felem_moog[cnt][k] for k in felem_asset[cnt].keys()])),\n",
      "                   dict(zip(felem_asset[cnt].keys(),[felem_turbo[cnt][k]-felem_moog[cnt][k] for k in felem_asset[cnt].keys()]))]:\n",
      "            subplot(6,3,icnt+1)\n",
      "            splot.elements(dxh,'ko',gcf=True,yrange=[-0.2,0.2])\n",
      "            if icnt == 0:\n",
      "                bovy_plot.bovy_text(r'$\\mathrm{ASSeT-Turbospec}$',title=True,size=18.)\n",
      "            elif icnt == 1:\n",
      "                bovy_plot.bovy_text(r'$\\mathrm{ASSeT-MOOG}$',title=True,size=18.)\n",
      "            elif icnt == 2:\n",
      "                bovy_plot.bovy_text(r'$\\mathrm{Turbospec-MOOG}$',title=True,size=18.)\n",
      "            if icnt % 3 == 0:\n",
      "                bovy_plot.bovy_text(r'$T_{{\\mathrm{{eff}}}} = {teff}, \\log g = {logg}$'.format(teff=teff,logg=logg),\n",
      "                                    top_left=True,size=18.)\n",
      "            icnt+= 1\n",
      "        cnt+= 1\n",
      "tight_layout()\n",
      "bovy_plot.bovy_end_print('/Users/bovy/Desktop/indivElement_turboMoogAsset.png',dpi=100)"
     ],
     "language": "python",
     "metadata": {},
     "outputs": [],
     "prompt_number": 17
    },
    {
     "cell_type": "heading",
     "level": 3,
     "metadata": {},
     "source": [
      "Plot the spectra in great detail"
     ]
    },
    {
     "cell_type": "code",
     "collapsed": false,
     "input": [
      "from matplotlib.backends.backend_pdf import PdfPages\n",
      "# We'll chop each detector into four\n",
      "startindxs= [188,988,1755,2600,3605,4150,4827,5500,6382,6830,7343,7900]\n",
      "endindxs= [988,1755,2600,3250,4150,4827,5500,6100,6830,7343,7900,8325]\n",
      "with PdfPages('/Users/bovy/Desktop/indivElement_turboMoogAsset_spec.pdf') as pdf:\n",
      "    cnt= 0\n",
      "    for teff in teffs:\n",
      "        for logg in loggs:\n",
      "            for ii in range(len(startindxs)):\n",
      "                splot.waveregions(assetspecs[cnt],startindxs=[startindxs[ii]],endindxs=[endindxs[ii]],labelLines=True,\n",
      "                                  labelTeff=teff,labellogg=logg,\n",
      "                                  yrange=[-0.1,1.2],color='b')\n",
      "                splot.waveregions(turbospecs[cnt][0],startindxs=[startindxs[ii]],endindxs=[endindxs[ii]],overplot=True,\n",
      "                                  color='g')\n",
      "                splot.waveregions(moogspecs[cnt][0],startindxs=[startindxs[ii]],endindxs=[endindxs[ii]],overplot=True,\n",
      "                                  color='gold')\n",
      "                splot.waveregions(assetspecs[cnt]-turbospecs[cnt][0]+0.2,startindxs=[startindxs[ii]],endindxs=[endindxs[ii]],\n",
      "                                  overplot=True,color='b',cleanZero=False)              \n",
      "                splot.waveregions(assetspecs[cnt]-moogspecs[cnt][0]+0.1,startindxs=[startindxs[ii]],endindxs=[endindxs[ii]],\n",
      "                                  overplot=True,color='g',cleanZero=False)              \n",
      "                splot.waveregions(turbospecs[cnt][0]-moogspecs[cnt][0],startindxs=[startindxs[ii]],endindxs=[endindxs[ii]],\n",
      "                                  overplot=True,color='gold',cleanZero=False)   \n",
      "                if ii == 0:\n",
      "                    lsize= 10.\n",
      "                    bovy_plot.bovy_text(137.,0.925,r'$\\mathrm{ASSeT}$',color='b',size=lsize)\n",
      "                    bovy_plot.bovy_text(137.,0.8,r'$\\mathrm{Turbospec}$',color='g',size=lsize)\n",
      "                    bovy_plot.bovy_text(137.,0.675,r'$\\mathrm{MOOG}$',color='gold',size=lsize)\n",
      "                    bovy_plot.bovy_text(137.,0.2,r'$\\mathrm{ASSeT-Turbospec}$',color='b',size=lsize)\n",
      "                    bovy_plot.bovy_text(137.,0.075,r'$\\mathrm{ASSeT-MOOG}$',color='g',size=lsize)\n",
      "                    bovy_plot.bovy_text(137.,-0.025,r'$\\mathrm{Turbospec-MOOG}$',color='gold',size=lsize)\n",
      "                pdf.savefig()\n",
      "                close()\n",
      "            cnt+= 1"
     ],
     "language": "python",
     "metadata": {},
     "outputs": [
      {
       "output_type": "stream",
       "stream": "stdout",
       "text": [
        "/Users/bovy/Repos/apogee/apogee/spec/plot.py:176: RuntimeWarning: invalid value encountered in less_equal\n",
        "  if cleanZero:\n",
        "\n",
        "/Library/Python/2.7/site-packages/numpy/lib/nanfunctions.py:220: RuntimeWarning: All-NaN axis encountered\n",
        "  warnings.warn(\"All-NaN axis encountered\", RuntimeWarning)\n"
       ]
      },
      {
       "output_type": "stream",
       "stream": "stdout",
       "text": [
        "\n",
        "-c:21: RuntimeWarning: invalid value encountered in subtract\n"
       ]
      },
      {
       "output_type": "stream",
       "stream": "stdout",
       "text": [
        "\n"
       ]
      }
     ],
     "prompt_number": 18
    },
    {
     "cell_type": "code",
     "collapsed": false,
     "input": [],
     "language": "python",
     "metadata": {},
     "outputs": [],
     "prompt_number": 18
    }
   ],
   "metadata": {}
  }
 ]
}