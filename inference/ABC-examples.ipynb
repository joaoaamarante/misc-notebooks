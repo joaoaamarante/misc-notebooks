{
 "cells": [
  {
   "cell_type": "code",
   "execution_count": 1,
   "metadata": {
    "collapsed": false
   },
   "outputs": [
    {
     "name": "stdout",
     "output_type": "stream",
     "text": [
      "Populating the interactive namespace from numpy and matplotlib\n"
     ]
    }
   ],
   "source": [
    "import time\n",
    "import numpy\n",
    "from galpy.util import bovy_plot\n",
    "%pylab inline\n",
    "numpy.random.seed(1)"
   ]
  },
  {
   "cell_type": "markdown",
   "metadata": {},
   "source": [
    "## Examples of ABC inference"
   ]
  },
  {
   "cell_type": "markdown",
   "metadata": {},
   "source": [
    "## Coin flip with two flips"
   ]
  },
  {
   "cell_type": "markdown",
   "metadata": {},
   "source": [
    "We've flipped a coin twice and gotten heads twice. What is the probability for getting heads?"
   ]
  },
  {
   "cell_type": "code",
   "execution_count": 2,
   "metadata": {
    "collapsed": true
   },
   "outputs": [],
   "source": [
    "data= ['H','H']\n",
    "outcomes= ['T','H']"
   ]
  },
  {
   "cell_type": "code",
   "execution_count": 3,
   "metadata": {
    "collapsed": true
   },
   "outputs": [],
   "source": [
    "def coin_ABC():\n",
    "    while True:\n",
    "        h= numpy.random.uniform()\n",
    "        flips= numpy.random.binomial(1,h,size=2)\n",
    "        if outcomes[flips[0]] == data[0] \\\n",
    "            and outcomes[flips[1]] == data[1]:\n",
    "                yield h"
   ]
  },
  {
   "cell_type": "code",
   "execution_count": 4,
   "metadata": {
    "collapsed": false
   },
   "outputs": [
    {
     "name": "stdout",
     "output_type": "stream",
     "text": [
      "Obtained 169433 samples\n"
     ]
    }
   ],
   "source": [
    "hsamples= []\n",
    "start= time.time()\n",
    "for h in coin_ABC():\n",
    "    hsamples.append(h)\n",
    "    if time.time() > start+2.: break\n",
    "print \"Obtained %i samples\" % len(hsamples)"
   ]
  },
  {
   "cell_type": "code",
   "execution_count": 5,
   "metadata": {
    "collapsed": false
   },
   "outputs": [
    {
     "data": {
      "text/plain": [
       "<matplotlib.text.Text at 0x1021aad10>"
      ]
     },
     "execution_count": 5,
     "metadata": {},
     "output_type": "execute_result"
    },
    {
     "data": {
      "image/png": "[encoded data removed]",
      "text/plain": [
       "<matplotlib.figure.Figure at 0x10b5d8f10>"
      ]
     },
     "metadata": {},
     "output_type": "display_data"
    }
   ],
   "source": [
    "dum= hist(hsamples,bins=31,lw=2.,normed=True,zorder=0)\n",
    "plot(numpy.linspace(0.,1.,1001),numpy.linspace(0.,1.,1001)**2.*3.,lw=3.)\n",
    "xlabel(r'$h$')\n",
    "ylabel(r'$p(h|D)$')"
   ]
  },
  {
   "cell_type": "markdown",
   "metadata": {},
   "source": [
    "## Coin flip with 10 flips"
   ]
  },
  {
   "cell_type": "markdown",
   "metadata": {},
   "source": [
    "Same with 10 flips, still matching the entire sequence:"
   ]
  },
  {
   "cell_type": "code",
   "execution_count": 6,
   "metadata": {
    "collapsed": true
   },
   "outputs": [],
   "source": [
    "data= ['T', 'H', 'H', 'T', 'T', 'H', 'H', 'T', 'H', 'H']"
   ]
  },
  {
   "cell_type": "code",
   "execution_count": 7,
   "metadata": {
    "collapsed": false
   },
   "outputs": [],
   "source": [
    "def coin_ABC_10flips():\n",
    "    while True:\n",
    "        h= numpy.random.uniform()\n",
    "        flips= numpy.random.binomial(1,h,size=len(data))\n",
    "        if outcomes[flips[0]] == data[0] \\\n",
    "            and outcomes[flips[1]] == data[1] \\\n",
    "            and outcomes[flips[2]] == data[2] \\\n",
    "            and outcomes[flips[3]] == data[3] \\\n",
    "            and outcomes[flips[4]] == data[4] \\\n",
    "            and outcomes[flips[5]] == data[5] \\\n",
    "            and outcomes[flips[6]] == data[6] \\\n",
    "            and outcomes[flips[7]] == data[7] \\\n",
    "            and outcomes[flips[8]] == data[8] \\\n",
    "            and outcomes[flips[9]] == data[9]:\n",
    "                yield h"
   ]
  },
  {
   "cell_type": "code",
   "execution_count": 8,
   "metadata": {
    "collapsed": false
   },
   "outputs": [
    {
     "name": "stdout",
     "output_type": "stream",
     "text": [
      "Obtained 184 samples\n"
     ]
    }
   ],
   "source": [
    "hsamples= []\n",
    "start= time.time()\n",
    "for h in coin_ABC_10flips():\n",
    "    hsamples.append(h)\n",
    "    if time.time() > start+2.: break\n",
    "print \"Obtained %i samples\" % len(hsamples)"
   ]
  },
  {
   "cell_type": "code",
   "execution_count": 9,
   "metadata": {
    "collapsed": false
   },
   "outputs": [
    {
     "data": {
      "text/plain": [
       "<matplotlib.text.Text at 0x11558e350>"
      ]
     },
     "execution_count": 9,
     "metadata": {},
     "output_type": "execute_result"
    },
    {
     "data": {
      "image/png": "[encoded data removed]",
      "text/plain": [
       "<matplotlib.figure.Figure at 0x1122ef810>"
      ]
     },
     "metadata": {},
     "output_type": "display_data"
    }
   ],
   "source": [
    "dum= hist(hsamples,bins=31,lw=2.,normed=True,zorder=0)\n",
    "xs= numpy.linspace(0.,1.,1001)\n",
    "ys= xs**numpy.sum([d == 'H' for d in data])*(1.-xs)**numpy.sum([d == 'T' for d in data])\n",
    "ys/= numpy.sum(ys)*(xs[1]-xs[0])\n",
    "plot(xs,ys,lw=3.)\n",
    "xlabel(r'$h$')\n",
    "ylabel(r'$p(h|D)$')"
   ]
  },
  {
   "cell_type": "markdown",
   "metadata": {},
   "source": [
    "Using a sufficient statistic instead:"
   ]
  },
  {
   "cell_type": "code",
   "execution_count": 10,
   "metadata": {
    "collapsed": true
   },
   "outputs": [],
   "source": [
    "sufficient_data= numpy.sum([d == 'H' for d in data])\n",
    "def coin_ABC_10flips_suff():\n",
    "    while True:\n",
    "        h= numpy.random.uniform()\n",
    "        flips= numpy.random.binomial(1,h,size=len(data))\n",
    "        if numpy.sum(flips) == sufficient_data:\n",
    "            yield h"
   ]
  },
  {
   "cell_type": "code",
   "execution_count": 11,
   "metadata": {
    "collapsed": false
   },
   "outputs": [
    {
     "name": "stdout",
     "output_type": "stream",
     "text": [
      "Obtained 20897 samples\n"
     ]
    }
   ],
   "source": [
    "hsamples= []\n",
    "start= time.time()\n",
    "for h in coin_ABC_10flips_suff():\n",
    "    hsamples.append(h)\n",
    "    if time.time() > start+2.: break\n",
    "print \"Obtained %i samples\" % len(hsamples)"
   ]
  },
  {
   "cell_type": "code",
   "execution_count": 12,
   "metadata": {
    "collapsed": false
   },
   "outputs": [
    {
     "data": {
      "text/plain": [
       "<matplotlib.text.Text at 0x1159dba90>"
      ]
     },
     "execution_count": 12,
     "metadata": {},
     "output_type": "execute_result"
    },
    {
     "data": {
      "image/png": "[encoded data removed]",
      "text/plain": [
       "<matplotlib.figure.Figure at 0x1122efa10>"
      ]
     },
     "metadata": {},
     "output_type": "display_data"
    }
   ],
   "source": [
    "dum= hist(hsamples,bins=31,lw=2.,normed=True,zorder=0)\n",
    "xs= numpy.linspace(0.,1.,1001)\n",
    "ys= xs**numpy.sum([d == 'H' for d in data])*(1.-xs)**numpy.sum([d == 'T' for d in data])\n",
    "ys/= numpy.sum(ys)*(xs[1]-xs[0])\n",
    "plot(xs,ys,lw=3.)\n",
    "xlabel(r'$h$')\n",
    "ylabel(r'$p(h|D)$')"
   ]
  },
  {
   "cell_type": "markdown",
   "metadata": {},
   "source": [
    "## Variance of a Gaussian with zero mean"
   ]
  },
  {
   "cell_type": "markdown",
   "metadata": {},
   "source": [
    "Now we infer the variance of a Gaussian with zero mean using ABC:"
   ]
  },
  {
   "cell_type": "code",
   "execution_count": 13,
   "metadata": {
    "collapsed": true
   },
   "outputs": [],
   "source": [
    "data= numpy.random.normal(size=100)"
   ]
  },
  {
   "cell_type": "code",
   "execution_count": 14,
   "metadata": {
    "collapsed": true
   },
   "outputs": [],
   "source": [
    "def Var_ABC(threshold=0.05):\n",
    "    while True:\n",
    "        v= numpy.random.uniform()*4\n",
    "        sim= numpy.random.normal(size=len(data))*numpy.sqrt(v)\n",
    "        d= numpy.fabs(numpy.var(sim)-numpy.var(data))\n",
    "        if d < threshold:\n",
    "            yield v"
   ]
  },
  {
   "cell_type": "code",
   "execution_count": 15,
   "metadata": {
    "collapsed": false
   },
   "outputs": [
    {
     "name": "stdout",
     "output_type": "stream",
     "text": [
      "Obtained 827 samples\n"
     ]
    }
   ],
   "source": [
    "vsamples= []\n",
    "start= time.time()\n",
    "for v in Var_ABC(threshold=0.05):\n",
    "    vsamples.append(v)\n",
    "    if time.time() > start+2.: break\n",
    "print \"Obtained %i samples\" % len(vsamples)"
   ]
  },
  {
   "cell_type": "code",
   "execution_count": 16,
   "metadata": {
    "collapsed": false
   },
   "outputs": [
    {
     "data": {
      "text/plain": [
       "[<matplotlib.lines.Line2D at 0x115b94c50>]"
      ]
     },
     "execution_count": 16,
     "metadata": {},
     "output_type": "execute_result"
    },
    {
     "data": {
      "image/png": "[encoded data removed]",
      "text/plain": [
       "<matplotlib.figure.Figure at 0x11271d810>"
      ]
     },
     "metadata": {},
     "output_type": "display_data"
    }
   ],
   "source": [
    "h= hist(vsamples,range=[0.,2.],bins=51,normed=True)\n",
    "xs= numpy.linspace(0.001,2.,1001)\n",
    "ys= xs**(-len(data)/2.)*numpy.exp(-1./xs/2.*len(data)*(numpy.var(data)+numpy.mean(data)**2.))\n",
    "ys/= numpy.sum(ys)*(xs[1]-xs[0])\n",
    "plot(xs,ys,lw=2.)"
   ]
  },
  {
   "cell_type": "markdown",
   "metadata": {},
   "source": [
    "If we raise the threshold too much, we sample simply from the prior:"
   ]
  },
  {
   "cell_type": "code",
   "execution_count": 17,
   "metadata": {
    "collapsed": false
   },
   "outputs": [
    {
     "name": "stdout",
     "output_type": "stream",
     "text": [
      "Obtained 22032 samples\n"
     ]
    }
   ],
   "source": [
    "vsamples= []\n",
    "start= time.time()\n",
    "for v in Var_ABC(threshold=1.5):\n",
    "    vsamples.append(v)\n",
    "    if time.time() > start+2.: break\n",
    "print \"Obtained %i samples\" % len(vsamples)"
   ]
  },
  {
   "cell_type": "code",
   "execution_count": 18,
   "metadata": {
    "collapsed": false
   },
   "outputs": [
    {
     "data": {
      "text/plain": [
       "[<matplotlib.lines.Line2D at 0x115fd3f50>]"
      ]
     },
     "execution_count": 18,
     "metadata": {},
     "output_type": "execute_result"
    },
    {
     "data": {
      "image/png": "[encoded data removed]",
      "text/plain": [
       "<matplotlib.figure.Figure at 0x102220d50>"
      ]
     },
     "metadata": {},
     "output_type": "display_data"
    }
   ],
   "source": [
    "h= hist(vsamples,range=[0.,2.],bins=51,normed=True)\n",
    "xs= numpy.linspace(0.001,2.,1001)\n",
    "ys= xs**(-len(data)/2.)*numpy.exp(-1./xs/2.*len(data)*(numpy.var(data)+numpy.mean(data)**2.))\n",
    "ys/= numpy.sum(ys)*(xs[1]-xs[0])\n",
    "plot(xs,ys,lw=2.)"
   ]
  },
  {
   "cell_type": "markdown",
   "metadata": {},
   "source": [
    "And if we make the threshold too small, we don't get many samples:"
   ]
  },
  {
   "cell_type": "code",
   "execution_count": 19,
   "metadata": {
    "collapsed": false
   },
   "outputs": [
    {
     "name": "stdout",
     "output_type": "stream",
     "text": [
      "Obtained 23 samples\n"
     ]
    }
   ],
   "source": [
    "vsamples= []\n",
    "start= time.time()\n",
    "for v in Var_ABC(threshold=0.001):\n",
    "    vsamples.append(v)\n",
    "    if time.time() > start+2.: break\n",
    "print \"Obtained %i samples\" % len(vsamples)"
   ]
  },
  {
   "cell_type": "code",
   "execution_count": 20,
   "metadata": {
    "collapsed": false
   },
   "outputs": [
    {
     "data": {
      "text/plain": [
       "[<matplotlib.lines.Line2D at 0x1161d04d0>]"
      ]
     },
     "execution_count": 20,
     "metadata": {},
     "output_type": "execute_result"
    },
    {
     "data": {
      "image/png": "[encoded data removed]",
      "text/plain": [
       "<matplotlib.figure.Figure at 0x115592e90>"
      ]
     },
     "metadata": {},
     "output_type": "display_data"
    }
   ],
   "source": [
    "h= hist(vsamples,range=[0.,2.],bins=51,normed=True)\n",
    "xs= numpy.linspace(0.001,2.,1001)\n",
    "ys= xs**(-len(data)/2.)*numpy.exp(-1./xs/2.*len(data)*(numpy.var(data)+numpy.mean(data)**2.))\n",
    "ys/= numpy.sum(ys)*(xs[1]-xs[0])\n",
    "plot(xs,ys,lw=2.)"
   ]
  },
  {
   "cell_type": "code",
   "execution_count": null,
   "metadata": {
    "collapsed": true
   },
   "outputs": [],
   "source": []
  }
 ],
 "metadata": {
  "kernelspec": {
   "display_name": "Python 2",
   "language": "python",
   "name": "python2"
  },
  "language_info": {
   "codemirror_mode": {
    "name": "ipython",
    "version": 2
   },
   "file_extension": ".py",
   "mimetype": "text/x-python",
   "name": "python",
   "nbconvert_exporter": "python",
   "pygments_lexer": "ipython2",
   "version": "2.7.10"
  }
 },
 "nbformat": 4,
 "nbformat_minor": 0
}
